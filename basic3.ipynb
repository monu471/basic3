{
 "cells": [
  {
   "cell_type": "markdown",
   "id": "d9e8b95d",
   "metadata": {},
   "source": [
    "### 1. Why are functions advantageous to have in your programs?"
   ]
  },
  {
   "cell_type": "markdown",
   "id": "b28415c1",
   "metadata": {},
   "source": [
    "\n",
    "functions enhance code reusability, readability, modularity, and maintainability. They promote good coding practices and make your programs more efficient, manageable, and scalable."
   ]
  },
  {
   "cell_type": "markdown",
   "id": "e9c34d6c",
   "metadata": {},
   "source": [
    "### 2. When does the code in a function run: when it&#39;s specified or when it's called?"
   ]
  },
  {
   "cell_type": "markdown",
   "id": "b0aae527",
   "metadata": {},
   "source": [
    "when function called"
   ]
  },
  {
   "cell_type": "markdown",
   "id": "e6b905e3",
   "metadata": {},
   "source": [
    "### 3. What statement creates a function?"
   ]
  },
  {
   "cell_type": "markdown",
   "id": "b387faf3",
   "metadata": {},
   "source": [
    "def function_name(arguments):\n",
    "\n",
    "    return something"
   ]
  },
  {
   "cell_type": "markdown",
   "id": "3bc5b487",
   "metadata": {},
   "source": [
    "### 4. What is the difference between a function and a function call?"
   ]
  },
  {
   "cell_type": "markdown",
   "id": "58ceecc6",
   "metadata": {},
   "source": [
    "a function is a reusable block of code that defines a set of operations, while a function call is the specific action of invoking or executing that function to perform its operations at a particular point in the program. The function call triggers the execution of the code within the function's block, and upon completion, the program resumes its execution at the point following the function call."
   ]
  },
  {
   "cell_type": "markdown",
   "id": "59b9b5a9",
   "metadata": {},
   "source": [
    "### 5. How many global scopes are there in a Python program? How many local scopes?"
   ]
  },
  {
   "cell_type": "markdown",
   "id": "f803b3f7",
   "metadata": {},
   "source": [
    "a Python program has one global scope, which exists throughout the program, and multiple local scopes, which are created whenever functions or blocks of code are encountered. Global variables are accessible from anywhere, while local variables are limited to their specific scope."
   ]
  },
  {
   "cell_type": "markdown",
   "id": "0c784598",
   "metadata": {},
   "source": [
    "### 6. What happens to variables in a local scope when the function call returns?"
   ]
  },
  {
   "cell_type": "markdown",
   "id": "ffab7a40",
   "metadata": {},
   "source": [
    "When a function call returns, the local variables within the function's local scope are destroyed. They cease to exist, and their values are no longer accessible."
   ]
  },
  {
   "cell_type": "markdown",
   "id": "c2f169b2",
   "metadata": {},
   "source": [
    "### 7. What is the concept of a return value? Is it possible to have a return value in an expression?"
   ]
  },
  {
   "cell_type": "markdown",
   "id": "6ca46e57",
   "metadata": {},
   "source": [
    "\n",
    "The concept of a return value refers to the value that a function can optionally send back to the caller after completing its execution. When a function is called, it can perform certain operations and produce a result that can be returned to the caller for further use or processing. a return value cannot be directly used within an expression. "
   ]
  },
  {
   "cell_type": "markdown",
   "id": "46de70ab",
   "metadata": {},
   "source": [
    "### 8. If a function does not have a return statement, what is the return value of a call to that function?"
   ]
  },
  {
   "cell_type": "markdown",
   "id": "bea4147a",
   "metadata": {},
   "source": [
    "If a function does not have a return statement, or if it reaches the end of the function without encountering a return statement, the function will automatically return None as the default return value."
   ]
  },
  {
   "cell_type": "markdown",
   "id": "58989284",
   "metadata": {},
   "source": [
    "### 9. How do you make a function variable refer to the global variable?"
   ]
  },
  {
   "cell_type": "markdown",
   "id": "7c14419a",
   "metadata": {},
   "source": [
    "To make a function variable refer to a global variable, you can use the global keyword within the function. This informs Python that the variable being used is a global variable rather than a local variable."
   ]
  },
  {
   "cell_type": "code",
   "execution_count": 14,
   "id": "9806629a",
   "metadata": {},
   "outputs": [
    {
     "name": "stdout",
     "output_type": "stream",
     "text": [
      "Global\n"
     ]
    }
   ],
   "source": [
    "a =  \"This is Global variable outside functions\"\n",
    "global_var = \"Global\"\n",
    "\n",
    "def my_function():\n",
    "    global global_var\n",
    "    print(global_var)  # Accessing the global variable within the function\n",
    "\n",
    "my_function()  # Function call\n"
   ]
  },
  {
   "cell_type": "markdown",
   "id": "39dc1cb1",
   "metadata": {},
   "source": [
    "### 10. What is the data type of None?"
   ]
  },
  {
   "cell_type": "code",
   "execution_count": 15,
   "id": "064f5ddf",
   "metadata": {},
   "outputs": [
    {
     "data": {
      "text/plain": [
       "NoneType"
      ]
     },
     "execution_count": 15,
     "metadata": {},
     "output_type": "execute_result"
    }
   ],
   "source": [
    "type(None)"
   ]
  },
  {
   "cell_type": "markdown",
   "id": "9aab3e81",
   "metadata": {},
   "source": [
    "### 13. What can you do to save a programme from crashing if it encounters an error?"
   ]
  },
  {
   "cell_type": "markdown",
   "id": "c86993b0",
   "metadata": {},
   "source": [
    "use of try else block"
   ]
  },
  {
   "cell_type": "markdown",
   "id": "04c581d8",
   "metadata": {},
   "source": [
    "### 14. What is the purpose of the try clause? What is the purpose of the except clause?"
   ]
  },
  {
   "cell_type": "markdown",
   "id": "9e38d0ac",
   "metadata": {},
   "source": [
    "try clause allows you to enclose code that might raise exceptions, while the except clause provides the means to catch and handle those exceptions, ensuring controlled execution and error resilience in your program."
   ]
  },
  {
   "cell_type": "code",
   "execution_count": null,
   "id": "6efce87c",
   "metadata": {},
   "outputs": [],
   "source": []
  }
 ],
 "metadata": {
  "kernelspec": {
   "display_name": "Python 3 (ipykernel)",
   "language": "python",
   "name": "python3"
  },
  "language_info": {
   "codemirror_mode": {
    "name": "ipython",
    "version": 3
   },
   "file_extension": ".py",
   "mimetype": "text/x-python",
   "name": "python",
   "nbconvert_exporter": "python",
   "pygments_lexer": "ipython3",
   "version": "3.10.9"
  }
 },
 "nbformat": 4,
 "nbformat_minor": 5
}
